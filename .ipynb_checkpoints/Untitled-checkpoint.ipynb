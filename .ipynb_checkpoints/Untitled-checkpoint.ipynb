{
 "cells": [
  {
   "cell_type": "code",
   "execution_count": null,
   "metadata": {
    "collapsed": true
   },
   "outputs": [],
   "source": [
    "import csv\n",
    "import cv2 \n",
    "import numpy as np\n",
    "import keras\n",
    "import matplotlib.pyplot as plt \n",
    "import matplotlib.gridspec as gridspec\n",
    "import random\n",
    "\n",
    "def get_data(csv_source,img_source,condition=False,correction=0):\n",
    "\tlines=[]\n",
    "\twith open(csv_source) as csvfile:\n",
    "\t\treader = csv.reader(csvfile)\n",
    "\t\tfor line in reader:\n",
    "\t\t\tlines.append(line)\n",
    "\n",
    "\timages = []\n",
    "\tmeasurements = []\n",
    "\tfor line in lines:\n",
    "\t\tif condition == True:\n",
    "\t\t\tn = 3\n",
    "\t\telse:\n",
    "\t\t\tn = 1\t\n",
    "\t\tfor i in range(n):\n",
    "\t\t\tsource_path = line[i]\n",
    "\t\t\ttokens = source_path.split('/')\n",
    "\t\t\tfilename = tokens[-1]\n",
    "\t\t\tlocal_path = img_source + filename\n",
    "\t\t\timage = cv2.imread(local_path)\n",
    "\t\t\timages.append(image)\n",
    "\t\tmeasurement = float(line[3])\n",
    "\t\tmeasurements.append(measurement)\n",
    "\t\tif condition == True:\n",
    "\t\t\tmeasurements.append(measurement+correction)\n",
    "\t\t\tmeasurements.append(measurement-correction)\n",
    "\n",
    "\treturn images,measurements\n",
    "\t\n",
    "folder1 = './Training-Data/Plain-Lap1/'\t\n",
    "images1, measurements1 = get_data(folder1+'driving_log.csv',folder1+'IMG/',condition=True,correction=0.1)\n",
    "\n",
    "folder2 = './Training-Data/Plain-Lap2/'\t\n",
    "images2, measurements2 = get_data(folder2+'driving_log.csv',folder2+'IMG/',condition=True,correction=0.1)\t\t\n",
    "\n",
    "folder3 = './Training-Data/Plain-Lap3/'\t\n",
    "images3, measurements3 = get_data(folder3+'driving_log.csv',folder3+'IMG/',condition=True,correction=0.2)\n",
    "\n",
    "folder4 = './Training-Data/Plain-Lap4/'\t\n",
    "images4, measurements4 = get_data(folder4+'driving_log.csv',folder4+'IMG/',condition=True,correction=0.2)\n",
    "\n",
    "images=images1+images2+images3+images4\n",
    "measurements=measurements1+measurements2+measurements3+measurements4\n",
    "\n",
    "\n",
    "augmented_images = []\n",
    "augmented_measurements = []\n",
    "for image, measurement in zip(images,measurements):\n",
    "\taugmented_images.append(image)\n",
    "\taugmented_measurements.append(measurement)\n",
    "\tflipped_image = cv2.flip(image,1)\n",
    "\tflipped_measurement = measurement*-1.0\n",
    "\taugmented_images.append(flipped_image)\n",
    "\taugmented_measurements.append(flipped_measurement)\n",
    "\n",
    "X_train = np.array(augmented_images)\n",
    "y_train = np.array(augmented_measurements)\t\n",
    "\n",
    "from keras import regularizers\t\t\t\n",
    "from keras.models import Sequential\n",
    "from keras.layers import Flatten, Dense, Lambda, Cropping2D\n",
    "from keras.layers.convolutional import Convolution2D\n",
    "from keras.layers.core import Dropout\n",
    "from keras.layers.normalization import BatchNormalization\n",
    "\n",
    "\n",
    "model = Sequential()\n",
    "model.add(Cropping2D(cropping=((70,25), (0,0)), input_shape=(160,320,3)))\n",
    "model.add(Lambda(lambda x: x/255))\n",
    "model.add(Convolution2D(24,5,5,subsample=(2,2),activation='relu'))\n",
    "model.add(Convolution2D(36,5,5,subsample=(2,2),activation='relu'))\n",
    "model.add(Convolution2D(48,5,5,subsample=(2,2),activation='relu'))\n",
    "model.add(Convolution2D(64,3,3,activation='relu'))\n",
    "model.add(Convolution2D(64,3,3,activation='relu'))\n",
    "model.add(Flatten())\n",
    "model.add(Dense(100,activation='relu'))\n",
    "model.add(Dense(50,activation='relu'))\n",
    "model.add(Dense(10,activation='relu'))\n",
    "model.add(Dense(1))\n",
    "\n",
    "model.compile(optimizer='adam', loss='mse')\n",
    "model.fit(X_train, y_train, validation_split = 0.2, shuffle=True, nb_epoch = 5)\n",
    "model.save('model.h5')\n",
    "\n",
    "import gc; gc.collect()"
   ]
  },
  {
   "cell_type": "code",
   "execution_count": null,
   "metadata": {
    "collapsed": true
   },
   "outputs": [],
   "source": []
  },
  {
   "cell_type": "code",
   "execution_count": null,
   "metadata": {
    "collapsed": true
   },
   "outputs": [],
   "source": []
  },
  {
   "cell_type": "code",
   "execution_count": null,
   "metadata": {
    "collapsed": true
   },
   "outputs": [],
   "source": []
  },
  {
   "cell_type": "code",
   "execution_count": null,
   "metadata": {
    "collapsed": true
   },
   "outputs": [],
   "source": []
  },
  {
   "cell_type": "code",
   "execution_count": null,
   "metadata": {
    "collapsed": true
   },
   "outputs": [],
   "source": []
  }
 ],
 "metadata": {
  "kernelspec": {
   "display_name": "Python 3",
   "language": "python",
   "name": "python3"
  },
  "language_info": {
   "codemirror_mode": {
    "name": "ipython",
    "version": 3
   },
   "file_extension": ".py",
   "mimetype": "text/x-python",
   "name": "python",
   "nbconvert_exporter": "python",
   "pygments_lexer": "ipython3",
   "version": "3.5.2"
  }
 },
 "nbformat": 4,
 "nbformat_minor": 2
}
